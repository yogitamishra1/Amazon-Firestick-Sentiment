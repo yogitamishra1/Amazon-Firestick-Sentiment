{
  "cells": [
    {
      "cell_type": "markdown",
      "id": "0b1af3d6",
      "metadata": {
        "id": "0b1af3d6"
      },
      "source": [
        "> # `Web Scraping from E-commerce website Amazon `\n",
        ">>> # <a href=\"https://www.amazon.in/Fire-TV-Stick-Alexa-Voice-Remote-3rd-Gen/dp/B08R6QR863/ref=sr_1_1?crid=6JFCPS59AMQR&keywords=fire+tv+stick&qid=1655828802&sprefix=fire%2Caps%2C192&sr=8-1\"> <span style='background :skyblue' > Amazon FireTV Stick   <span/> </a>"
      ]
    },
    {
      "cell_type": "code",
      "source": [
        "#packages\n",
        "from autoscraper import AutoScraper\n",
        "import requests\n",
        "import pandas as pd\n",
        "from bs4 import BeautifulSoup as bs\n",
        "\n",
        "#Web Scraping from E-commerce website Amazon\n",
        "reviewlist =[]\n",
        "\n",
        "def get_soup(url):\n",
        "    r=requests.get(url)\n",
        "    soup=BeautifulSoup(r.text,\"html.parser\")\n",
        "    return soup\n",
        "\n",
        "def get_reviews(soup):\n",
        "    reviews=soup.find_all('div',{'data-hook':'review'})\n",
        "    for item in reviews:\n",
        "        review={'body':item.find('span',{'data-hook':'review-body'}).text.strip()}\n",
        "        reviewlist.append(review)\n",
        "        \n",
        "for x in range(1,499):\n",
        "    soup=get_soup(f'https://www.amazon.in/Fire-TV-Stick-Alexa-Voice-Remote-3rd-Gen/product-reviews/B08R6QR863/ref=cm_cr_arp_d_paging_btm_next_2?ie=UTF8&reviewerType=all_reviews&pageNumber='+str(x))\n",
        "    #we are using product link to scrape the data \n",
        "    print(f'Getting page:{x}')\n",
        "    get_reviews(soup)\n",
        "    print(len(reviewlist))\n",
        "    if not soup.find('li',{'class':'a-pagination a-last'}):\n",
        "        pass\n",
        "    else:\n",
        "        break\n",
        "        \n",
        "df=pd.DataFrame(reviewlist)\n",
        "df.to_csv('Firestick.csv',index=False)"
      ],
      "metadata": {
        "id": "EI1LeDjuDpsV"
      },
      "id": "EI1LeDjuDpsV",
      "execution_count": null,
      "outputs": []
    }
  ],
  "metadata": {
    "kernelspec": {
      "display_name": "Python 3 (ipykernel)",
      "language": "python",
      "name": "python3"
    },
    "language_info": {
      "codemirror_mode": {
        "name": "ipython",
        "version": 3
      },
      "file_extension": ".py",
      "mimetype": "text/x-python",
      "name": "python",
      "nbconvert_exporter": "python",
      "pygments_lexer": "ipython3",
      "version": "3.9.7"
    },
    "colab": {
      "provenance": []
    }
  },
  "nbformat": 4,
  "nbformat_minor": 5
}